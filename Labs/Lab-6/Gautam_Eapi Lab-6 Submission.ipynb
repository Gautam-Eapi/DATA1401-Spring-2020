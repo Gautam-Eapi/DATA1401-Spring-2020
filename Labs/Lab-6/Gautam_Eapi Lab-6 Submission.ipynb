{
 "cells": [
  {
   "cell_type": "code",
   "execution_count": 3,
   "metadata": {},
   "outputs": [],
   "source": [
    "                                                #    Lab 6\n",
    "\n",
    "                                                #   Problem 1"
   ]
  },
  {
   "cell_type": "code",
   "execution_count": 1,
   "metadata": {},
   "outputs": [],
   "source": [
    "# Create Matrix Class \n",
    "# n = number of rows and m = number of columns\n",
    "\n",
    "class Matrix:\n",
    "    def __init__(self,n,m):\n",
    "        self.row = n\n",
    "        self.column = m\n",
    "    \n",
    "    def zero_matrix(self):\n",
    "        out = list()\n",
    "        for i in range(self.row):\n",
    "            row = list()\n",
    "            for j in range(self.column):\n",
    "                row.append(0.)\n",
    "            out.append(row)\n",
    "        return out\n",
    "    \n",
    "# add values to a matrix\n",
    "\n",
    "    def add_value(self):\n",
    "        out = [[int(input()) for i in range(self.column)] for j in range(self.row)]\n",
    "        for i in range(self.row):\n",
    "            for j in range(self.column):\n",
    "                print(format(out[i][j],\"<4\"),end = \"\")\n",
    "            print()\n",
    "            \n",
    "    \n",
    "    def matrix_assign(self, n_2, m_2):\n",
    "        self.n_2 = n_2\n",
    "        self.m_2 = m_2\n",
    "      #  M_1 = self.add_value()\n",
    "      #  M_2 = self.add_value()\n",
    "        \n",
    "        # Creating Matrix 1\n",
    "        \n",
    "        M_1 = [[int(input()) for i in range(self.column)] for j in range(self.row)]\n",
    "        for i in range(self.row):\n",
    "            for j in range(self.column):\n",
    "                print(format(M_1[i][j],\"<4\"),end = \"\")\n",
    "            print()  \n",
    "            \n",
    "        # Creating Matrix 2\n",
    "        M_2 = [[int(input()) for i in range(self.m_2)] for j in range(self.n_2)]            \n",
    "        for i in range(self.n_2):\n",
    "            for j in range(self.m_2):\n",
    "                print(format(M_2[i][j],\"<4\"),end = \"\")\n",
    "            print()     \n",
    "        \n",
    "        if self.row == self.n_2 and self.column == self.m_2:\n",
    "            for i in range(self.row):\n",
    "                row = list()\n",
    "                for j in range(self.column):\n",
    "                    M_2[i][j] =  M_1[i][j]\n",
    "            print(M_2) \n",
    "        else:\n",
    "            print(\" Error -Wrong Matrix operation!\")\n",
    "            \n",
    "            \n",
    "    "
   ]
  },
  {
   "cell_type": "code",
   "execution_count": 108,
   "metadata": {},
   "outputs": [
    {
     "data": {
      "text/plain": [
       "[[0.0, 0.0, 0.0, 0.0], [0.0, 0.0, 0.0, 0.0], [0.0, 0.0, 0.0, 0.0]]"
      ]
     },
     "execution_count": 108,
     "metadata": {},
     "output_type": "execute_result"
    }
   ],
   "source": [
    "M0 = Matrix(3,4)\n",
    "M0.zero_matrix()"
   ]
  },
  {
   "cell_type": "code",
   "execution_count": 109,
   "metadata": {},
   "outputs": [
    {
     "name": "stdout",
     "output_type": "stream",
     "text": [
      "1\n",
      "4\n",
      "2\n",
      "3\n",
      "1   4   \n",
      "2   3   \n",
      "0\n",
      "1\n",
      "7\n",
      "9\n",
      "0   1   \n",
      "7   9   \n",
      "[[1, 4], [2, 3]]\n"
     ]
    }
   ],
   "source": [
    "M_1 = Matrix(2,2)\n",
    "MA = M_1.matrix_assign(2,2)"
   ]
  },
  {
   "cell_type": "code",
   "execution_count": 110,
   "metadata": {},
   "outputs": [
    {
     "name": "stdout",
     "output_type": "stream",
     "text": [
      "1\n",
      "2\n",
      "3\n",
      "4\n",
      "1   2   \n",
      "3   4   \n",
      "1\n",
      "3\n",
      "9\n",
      "0\n",
      "2\n",
      "1\n",
      "1   3   9   \n",
      "0   2   1   \n",
      " Error -Wrong Matrix operation!\n"
     ]
    }
   ],
   "source": [
    "M_1 = Matrix(2,2)\n",
    "MA = M_1.matrix_assign(2,3)"
   ]
  },
  {
   "cell_type": "code",
   "execution_count": 53,
   "metadata": {},
   "outputs": [],
   "source": [
    "                                                    # Problem 2\n",
    "    \n",
    "\n",
    "class Matrix:\n",
    "    def __init__(self,n,m):\n",
    "        self.row = n\n",
    "        self.column = m\n",
    "    \n",
    "    def zero_matrix(self):\n",
    "        out = list()\n",
    "        for i in range(self.row):\n",
    "            row = list()\n",
    "            for j in range(self.column):\n",
    "                row.append(0.)\n",
    "            out.append(row)\n",
    "        return out\n",
    "    \n",
    "    def is_matrix(self):\n",
    "        if isinstance(self,list):\n",
    "            row_length=len(self[0])\n",
    "            for row in self:\n",
    "                if not row_length==len(row):\n",
    "                    return False\n",
    "        else:\n",
    "            False\n",
    "        return True\n",
    "    \n",
    "# Adding methods\n",
    "\n",
    "#   shape()\n",
    "\n",
    "    def shape(self):\n",
    "        out = ()\n",
    "        if Matrix.is_matrix(self):\n",
    "            n=self.row\n",
    "            m=self.column\n",
    "            out = (n,m)\n",
    "            return out\n",
    "        else:\n",
    "            0,0\n",
    "            \n",
    "# add values to a matrix\n",
    "\n",
    "    def add_value(self):\n",
    "        out = [[int(input()) for i in range(self.column)] for j in range(self.row)]\n",
    "        for i in range(self.row):\n",
    "            for j in range(self.column):\n",
    "                print(format(out[i][j],\"<4\"),end = \"\")\n",
    "            print()\n",
    "\n",
    "#   transpose()\n",
    "\n",
    "    def transpose(self,M):\n",
    "        self.M = M\n",
    "        self.row,self.column = Matrix.shape(self.M)\n",
    "        trans = [[0 for i in range(self.row)] for j in range(self.column)]\n",
    "        for i in range(self.column):\n",
    "            for j in range(self.row):\n",
    "                trans[i][j] = self[j][i]\n",
    "        return trans\n",
    "    "
   ]
  },
  {
   "cell_type": "code",
   "execution_count": 54,
   "metadata": {},
   "outputs": [
    {
     "data": {
      "text/plain": [
       "[[0.0, 0.0, 0.0, 0.0], [0.0, 0.0, 0.0, 0.0], [0.0, 0.0, 0.0, 0.0]]"
      ]
     },
     "execution_count": 54,
     "metadata": {},
     "output_type": "execute_result"
    }
   ],
   "source": [
    "M0 = Matrix(3,4)\n",
    "M0.zero_matrix()"
   ]
  },
  {
   "cell_type": "code",
   "execution_count": 55,
   "metadata": {},
   "outputs": [
    {
     "data": {
      "text/plain": [
       "True"
      ]
     },
     "execution_count": 55,
     "metadata": {},
     "output_type": "execute_result"
    }
   ],
   "source": [
    "M0.is_matrix()"
   ]
  },
  {
   "cell_type": "code",
   "execution_count": 56,
   "metadata": {},
   "outputs": [
    {
     "data": {
      "text/plain": [
       "(3, 4)"
      ]
     },
     "execution_count": 56,
     "metadata": {},
     "output_type": "execute_result"
    }
   ],
   "source": [
    "M0.shape()"
   ]
  },
  {
   "cell_type": "code",
   "execution_count": 57,
   "metadata": {},
   "outputs": [
    {
     "name": "stdout",
     "output_type": "stream",
     "text": [
      "1\n",
      "4\n",
      "9\n",
      "2\n",
      "5\n",
      "13\n",
      "1   4   9   \n",
      "2   5   13  \n"
     ]
    }
   ],
   "source": [
    "M = Matrix(2,3)\n",
    "M.add_value()"
   ]
  },
  {
   "cell_type": "code",
   "execution_count": 62,
   "metadata": {},
   "outputs": [
    {
     "ename": "TypeError",
     "evalue": "__init__() missing 1 required positional argument: 'm'",
     "output_type": "error",
     "traceback": [
      "\u001b[1;31m---------------------------------------------------------------------------\u001b[0m",
      "\u001b[1;31mTypeError\u001b[0m                                 Traceback (most recent call last)",
      "\u001b[1;32m<ipython-input-62-edbf38883082>\u001b[0m in \u001b[0;36m<module>\u001b[1;34m\u001b[0m\n\u001b[0;32m      1\u001b[0m \u001b[1;31m# Transpose\u001b[0m\u001b[1;33m\u001b[0m\u001b[1;33m\u001b[0m\u001b[1;33m\u001b[0m\u001b[0m\n\u001b[1;32m----> 2\u001b[1;33m \u001b[0mT\u001b[0m \u001b[1;33m=\u001b[0m \u001b[0mMatrix\u001b[0m\u001b[1;33m(\u001b[0m\u001b[1;33m[\u001b[0m\u001b[1;33m[\u001b[0m\u001b[1;36m1\u001b[0m\u001b[1;33m,\u001b[0m \u001b[1;36m4\u001b[0m\u001b[1;33m,\u001b[0m \u001b[1;36m9\u001b[0m\u001b[1;33m]\u001b[0m\u001b[1;33m,\u001b[0m\u001b[1;33m[\u001b[0m\u001b[1;36m2\u001b[0m\u001b[1;33m,\u001b[0m\u001b[1;36m5\u001b[0m\u001b[1;33m,\u001b[0m\u001b[1;36m13\u001b[0m\u001b[1;33m]\u001b[0m\u001b[1;33m]\u001b[0m\u001b[1;33m)\u001b[0m\u001b[1;33m\u001b[0m\u001b[1;33m\u001b[0m\u001b[0m\n\u001b[0m\u001b[0;32m      3\u001b[0m \u001b[0mT\u001b[0m\u001b[1;33m.\u001b[0m\u001b[0mtranspose\u001b[0m\u001b[1;33m(\u001b[0m\u001b[1;33m)\u001b[0m\u001b[1;33m\u001b[0m\u001b[1;33m\u001b[0m\u001b[0m\n",
      "\u001b[1;31mTypeError\u001b[0m: __init__() missing 1 required positional argument: 'm'"
     ]
    }
   ],
   "source": [
    "# Transpose \n",
    "T = Matrix([[1, 4, 9],[2,5,13]])\n",
    "T.transpose()        \n"
   ]
  },
  {
   "cell_type": "code",
   "execution_count": null,
   "metadata": {},
   "outputs": [],
   "source": [
    "                                  # Problem 3"
   ]
  },
  {
   "cell_type": "code",
   "execution_count": 80,
   "metadata": {},
   "outputs": [],
   "source": [
    "\n",
    "\n",
    "# constant function\n",
    "\n",
    "def constant(n,m,c):\n",
    "    out = []\n",
    "    for i in range(n):\n",
    "        row = []\n",
    "        for j in range(m):\n",
    "            row.append(c)\n",
    "        out.append(row)\n",
    "    return out\n",
    "\n",
    "\n",
    "\n",
    "# zeros function\n",
    "\n",
    "def zeros(n,m):\n",
    "    out = []\n",
    "    for i in range(n):\n",
    "        row = []\n",
    "        for j in range(m):\n",
    "            row.append(0.)\n",
    "        out.append(row)\n",
    "    return out\n",
    "\n",
    "\n",
    "\n",
    "# ones function\n",
    "\n",
    "def ones(n,m):\n",
    "    out = []\n",
    "    for i in range(n):\n",
    "        row = []\n",
    "        for j in range(m):\n",
    "            row.append(1.)\n",
    "        out.append(row)\n",
    "    return out\n",
    "\n",
    "\n",
    "#  Identity matrix\n",
    "\n",
    "def eye(n):\n",
    "    out = []\n",
    "    for i in range(n):\n",
    "        row = []\n",
    "        for j in range(n):\n",
    "            if i==j:\n",
    "                row.append(1.)\n",
    "            else:\n",
    "                row.append(0.)\n",
    "        out.append(row)\n",
    "    return out\n"
   ]
  },
  {
   "cell_type": "code",
   "execution_count": 82,
   "metadata": {},
   "outputs": [
    {
     "name": "stdout",
     "output_type": "stream",
     "text": [
      "[[12.13, 12.13, 12.13, 12.13]]\n"
     ]
    }
   ],
   "source": [
    "C = constant(1,4,12.13)\n",
    "print(C)"
   ]
  },
  {
   "cell_type": "code",
   "execution_count": 83,
   "metadata": {},
   "outputs": [
    {
     "name": "stdout",
     "output_type": "stream",
     "text": [
      "[[0.0, 0.0, 0.0], [0.0, 0.0, 0.0]]\n"
     ]
    }
   ],
   "source": [
    "Z = zeros(2,3)\n",
    "print(Z)"
   ]
  },
  {
   "cell_type": "code",
   "execution_count": 84,
   "metadata": {},
   "outputs": [
    {
     "name": "stdout",
     "output_type": "stream",
     "text": [
      "[[1.0, 1.0, 1.0, 1.0], [1.0, 1.0, 1.0, 1.0]]\n"
     ]
    }
   ],
   "source": [
    "A = ones(2,4)\n",
    "print(A)"
   ]
  },
  {
   "cell_type": "code",
   "execution_count": 85,
   "metadata": {},
   "outputs": [
    {
     "name": "stdout",
     "output_type": "stream",
     "text": [
      "[[1.0, 0.0, 0.0, 0.0], [0.0, 1.0, 0.0, 0.0], [0.0, 0.0, 1.0, 0.0], [0.0, 0.0, 0.0, 1.0]]\n"
     ]
    }
   ],
   "source": [
    "I = eye(4)\n",
    "print(I)"
   ]
  },
  {
   "cell_type": "code",
   "execution_count": null,
   "metadata": {},
   "outputs": [],
   "source": [
    "#                                          Problem 4"
   ]
  },
  {
   "cell_type": "code",
   "execution_count": 7,
   "metadata": {},
   "outputs": [],
   "source": [
    "class M_OP:\n",
    "    def __init__(self,n,m):\n",
    "        self.row = n\n",
    "        self.column = m\n",
    "        \n",
    "                  \n",
    "    def is_matrix(self):\n",
    "        if isinstance(self,list):\n",
    "            row_length=len(self[0])\n",
    "            for row in self:\n",
    "                if not row_length==len(row):\n",
    "                    return False\n",
    "        else:\n",
    "            False\n",
    "        return True\n",
    "\n",
    "#   shape()\n",
    "\n",
    "    def shape(self):\n",
    "        out = ()\n",
    "        if M_OP.is_matrix(self):\n",
    "            n=self.row\n",
    "            m=self.column\n",
    "            out = (n,m)\n",
    "            return out\n",
    "        else:\n",
    "            0,0 \n",
    "\n",
    "#   scalar multiplication\n",
    "\n",
    "    def scalarmul(self,c):\n",
    "        self.c = c\n",
    "        out = [[int(input()) for i in range(self.column)] for j in range(self.row)]\n",
    "        for i in range(self.row):\n",
    "            for j in range(self.column):\n",
    "                print(format(self.c*out[i][j],\"<4\"),end = \"\")\n",
    "            print()    \n",
    "\n",
    "            \n",
    "#   matrix addition\n",
    "\n",
    "    def add(self, n_2, m_2):\n",
    "        self.n_2 = n_2\n",
    "        self.m_2 = m_2\n",
    "        \n",
    "        # Creating Matrix 1\n",
    "        \n",
    "        M_1 = [[int(input()) for i in range(self.column)] for j in range(self.row)]\n",
    "        for i in range(self.row):\n",
    "            for j in range(self.column):\n",
    "                print(format(M_1[i][j],\"<4\"),end = \"\")\n",
    "            print()  \n",
    "            \n",
    "        # Creating Matrix 2\n",
    "        M_2 = [[int(input()) for i in range(self.m_2)] for j in range(self.n_2)]            \n",
    "        for i in range(self.n_2):\n",
    "            for j in range(self.m_2):\n",
    "                print(format(M_2[i][j],\"<4\"),end = \"\")\n",
    "            print()  \n",
    "            \n",
    "        N = [[0 for i in range(self.column)] for j in range(self.row)]\n",
    "        if self.row == self.n_2 and self.column == self.m_2:\n",
    "            for i in range(self.row):\n",
    "                for j in range(self.column):\n",
    "                    N[i][j] =  M_1[i][j] + M_2[i][j]\n",
    "            print(N) \n",
    "        else:\n",
    "            print(\" Matrix addition not possible!\")\n",
    "            \n",
    "     \n",
    "    \n",
    "#   matrix subtraction\n",
    "\n",
    "    def sub(self, n_2, m_2):\n",
    "        self.n_2 = n_2\n",
    "        self.m_2 = m_2\n",
    "        \n",
    "        # Creating Matrix 1\n",
    "        \n",
    "        M_1 = [[int(input()) for i in range(self.column)] for j in range(self.row)]\n",
    "        for i in range(self.row):\n",
    "            for j in range(self.column):\n",
    "                print(format(M_1[i][j],\"<4\"),end = \"\")\n",
    "            print()  \n",
    "            \n",
    "        # Creating Matrix 2\n",
    "        M_2 = [[int(input()) for i in range(self.m_2)] for j in range(self.n_2)]            \n",
    "        for i in range(self.n_2):\n",
    "            for j in range(self.m_2):\n",
    "                print(format(M_2[i][j],\"<4\"),end = \"\")\n",
    "            print()  \n",
    "            \n",
    "        N = [[0 for i in range(self.column)] for j in range(self.row)]\n",
    "        if self.row == self.n_2 and self.column == self.m_2:\n",
    "            for i in range(self.row):\n",
    "                for j in range(self.column):\n",
    "                    N[i][j] =  M_1[i][j] - M_2[i][j]\n",
    "            print(N) \n",
    "        else:\n",
    "            print(\" Matrix subtraction not possible!\")\n",
    "            \n",
    "            \n",
    "#   matrix multiplication\n",
    "\n",
    "    def mat_mult(self, n_2, m_2):\n",
    "        self.n_2 = n_2\n",
    "        self.m_2 = m_2\n",
    "        \n",
    "        # Creating Matrix 1\n",
    "        \n",
    "        M_1 = [[int(input()) for i in range(self.column)] for j in range(self.row)]\n",
    "        for i in range(self.row):\n",
    "            for j in range(self.column):\n",
    "                print(format(M_1[i][j],\"<4\"),end = \"\")\n",
    "            print()  \n",
    "            \n",
    "        # Creating Matrix 2\n",
    "        M_2 = [[int(input()) for i in range(self.m_2)] for j in range(self.n_2)]            \n",
    "        for i in range(self.n_2):\n",
    "            for j in range(self.m_2):\n",
    "                print(format(M_2[i][j],\"<4\"),end = \"\")\n",
    "            print()  \n",
    "            \n",
    "        MM = [[0 for i in range(self.m_2)] for j in range(self.row)]\n",
    "        if self.column == self.n_2:\n",
    "            for i in range(self.row):\n",
    "                for j in range(self.m_2):\n",
    "                    for k in range(self.column):\n",
    "                        MM[i][j] =  MM[i][j] + M_1[i][k] * M_2[k][j]\n",
    "            print(MM) \n",
    "        else:\n",
    "            print(\" Matrix multipliction not possible!\")\n",
    "            \n",
    "            \n",
    "            \n",
    "            \n",
    "#   element  multiplication\n",
    "\n",
    "    def element_mult(self, n_2, m_2):\n",
    "        self.n_2 = n_2\n",
    "        self.m_2 = m_2\n",
    "        \n",
    "        # Creating Matrix 1\n",
    "        \n",
    "        M_1 = [[int(input()) for i in range(self.column)] for j in range(self.row)]\n",
    "        for i in range(self.row):\n",
    "            for j in range(self.column):\n",
    "                print(format(M_1[i][j],\"<4\"),end = \"\")\n",
    "            print()  \n",
    "            \n",
    "        # Creating Matrix 2\n",
    "        M_2 = [[int(input()) for i in range(self.m_2)] for j in range(self.n_2)]            \n",
    "        for i in range(self.n_2):\n",
    "            for j in range(self.m_2):\n",
    "                print(format(M_2[i][j],\"<4\"),end = \"\")\n",
    "            print()  \n",
    "            \n",
    "        EM = [[0 for i in range(self.column)] for j in range(self.row)]\n",
    "        if self.row == self.n_2 and self.column == self.m_2:\n",
    "            for i in range(self.row):\n",
    "                for j in range(self.column):\n",
    "                    EM[i][j] =  M_1[i][j] * M_2[i][j]\n",
    "            print(EM) \n",
    "        else:\n",
    "            print(\" Element by element Matrix multiplication not possible!\")\n",
    "            \n",
    "#   Checking if Matrices are same\n",
    "\n",
    "    def equals(self, n_2, m_2):\n",
    "        self.n_2 = n_2\n",
    "        self.m_2 = m_2\n",
    "        \n",
    "        # Creating Matrix 1\n",
    "        \n",
    "        M_1 = [[int(input()) for i in range(self.column)] for j in range(self.row)]\n",
    "        for i in range(self.row):\n",
    "            for j in range(self.column):\n",
    "                print(format(M_1[i][j],\"<4\"),end = \"\")\n",
    "            print()  \n",
    "            \n",
    "        # Creating Matrix 2\n",
    "        M_2 = [[int(input()) for i in range(self.m_2)] for j in range(self.n_2)]            \n",
    "        for i in range(self.n_2):\n",
    "            for j in range(self.m_2):\n",
    "                print(format(M_2[i][j],\"<4\"),end = \"\")\n",
    "            print()  \n",
    "            \n",
    "        if self.row == self.n_2 and self.column == self.m_2:\n",
    "            for i in range(self.row):\n",
    "                for j in range(self.column):\n",
    "                    if M_1[i][j] == M_2[i][j]:\n",
    "                        return True\n",
    "                    else:\n",
    "                        return False \n",
    "        else:\n",
    "            print(\" Matrix 1 and Matrix 2 are not same!\")"
   ]
  },
  {
   "cell_type": "code",
   "execution_count": 36,
   "metadata": {},
   "outputs": [],
   "source": [
    "M = M_OP(2,3)"
   ]
  },
  {
   "cell_type": "code",
   "execution_count": 17,
   "metadata": {},
   "outputs": [
    {
     "name": "stdout",
     "output_type": "stream",
     "text": [
      "1\n",
      "2\n",
      "3\n",
      "1\n",
      "0\n",
      "9\n",
      "1.5 3.0 4.5 \n",
      "1.5 0.0 13.5\n"
     ]
    }
   ],
   "source": [
    "SM = M.scalarmul(1.5)"
   ]
  },
  {
   "cell_type": "code",
   "execution_count": 18,
   "metadata": {},
   "outputs": [
    {
     "name": "stdout",
     "output_type": "stream",
     "text": [
      "1\n",
      "2\n",
      "8\n",
      "4\n",
      "5\n",
      "6\n",
      "1   2   8   \n",
      "4   5   6   \n",
      "1\n",
      "2\n",
      "3\n",
      "5\n",
      "7\n",
      "8\n",
      "1   2   3   \n",
      "5   7   8   \n",
      "[[2, 4, 11], [9, 12, 14]]\n"
     ]
    }
   ],
   "source": [
    "AM = M.add(2,3)"
   ]
  },
  {
   "cell_type": "code",
   "execution_count": 19,
   "metadata": {},
   "outputs": [
    {
     "name": "stdout",
     "output_type": "stream",
     "text": [
      "0\n",
      "1\n",
      "2\n",
      "3\n",
      "4\n",
      "2\n",
      "0   1   2   \n",
      "3   4   2   \n",
      "7\n",
      "6\n",
      "8\n",
      "5\n",
      "4\n",
      "3\n",
      "2\n",
      "1\n",
      "2\n",
      "7   6   8   \n",
      "5   4   3   \n",
      "2   1   2   \n",
      " Matrix addition not possible!\n"
     ]
    }
   ],
   "source": [
    "AMN = M.add(3,3)"
   ]
  },
  {
   "cell_type": "code",
   "execution_count": 21,
   "metadata": {},
   "outputs": [
    {
     "name": "stdout",
     "output_type": "stream",
     "text": [
      "1\n",
      "2\n",
      "3\n",
      "4\n",
      "3\n",
      "2\n",
      "1   2   3   \n",
      "4   3   2   \n",
      "7\n",
      "6\n",
      "5\n",
      "0\n",
      "0\n",
      "3\n",
      "7   6   5   \n",
      "0   0   3   \n",
      "[[-6, -4, -2], [4, 3, -1]]\n"
     ]
    }
   ],
   "source": [
    "SubM = M.sub(2,3)"
   ]
  },
  {
   "cell_type": "code",
   "execution_count": 2,
   "metadata": {},
   "outputs": [
    {
     "name": "stdout",
     "output_type": "stream",
     "text": [
      "1\n",
      "2\n",
      "3\n",
      "9\n",
      "0\n",
      "1\n",
      "1   2   3   \n",
      "9   0   1   \n",
      "2\n",
      "3\n",
      "4\n",
      "2   \n",
      "3   \n",
      "4   \n",
      "[[20], [22]]\n"
     ]
    }
   ],
   "source": [
    "M = M_OP(2,3)\n",
    "MatMul = M.mat_mult(3,1)"
   ]
  },
  {
   "cell_type": "code",
   "execution_count": 45,
   "metadata": {},
   "outputs": [
    {
     "name": "stdout",
     "output_type": "stream",
     "text": [
      "2\n",
      "1\n",
      "2\n",
      "0\n",
      "8\n",
      "7\n",
      "2   1   2   \n",
      "0   8   7   \n",
      "2\n",
      "1\n",
      "2   \n",
      "1   \n",
      " Matrix multipliction not possible!\n"
     ]
    }
   ],
   "source": [
    "MatMul = M.mat_mult(2,1)"
   ]
  },
  {
   "cell_type": "code",
   "execution_count": 9,
   "metadata": {},
   "outputs": [
    {
     "name": "stdout",
     "output_type": "stream",
     "text": [
      "2\n",
      "1\n",
      "2\n",
      "1\n",
      "0\n",
      "0\n",
      "0\n",
      "2\n",
      "3\n",
      "2   1   2   \n",
      "1   0   0   \n",
      "0   2   3   \n",
      "4\n",
      "1\n",
      "4\n",
      "0\n",
      "4\n",
      "3\n",
      "2\n",
      "0\n",
      "0\n",
      "4   1   4   \n",
      "0   4   3   \n",
      "2   0   0   \n",
      "[[8, 1, 8], [0, 0, 0], [0, 0, 0]]\n"
     ]
    }
   ],
   "source": [
    "M = M_OP(3,3)\n",
    "EleMul = M.element_mult(3,3)"
   ]
  },
  {
   "cell_type": "code",
   "execution_count": 30,
   "metadata": {},
   "outputs": [
    {
     "name": "stdout",
     "output_type": "stream",
     "text": [
      "1\n",
      "2\n",
      "9\n",
      "13\n",
      "1   2   \n",
      "9   13  \n",
      "1\n",
      "2\n",
      "9\n",
      "13\n",
      "1   2   \n",
      "9   13  \n",
      "True\n"
     ]
    }
   ],
   "source": [
    "M = M_OP(2,2)\n",
    "Eq_M = M.equals(2,2)\n",
    "print(Eq_M)"
   ]
  },
  {
   "cell_type": "code",
   "execution_count": 31,
   "metadata": {},
   "outputs": [
    {
     "name": "stdout",
     "output_type": "stream",
     "text": [
      "1\n",
      "2\n",
      "6\n",
      "4\n",
      "1   2   \n",
      "6   4   \n",
      "1\n",
      "4\n",
      "1   \n",
      "4   \n",
      " Matrix 1 and Matrix 2 are not same!\n",
      "None\n"
     ]
    }
   ],
   "source": [
    "M = M_OP(2,2)\n",
    "Eq_M = M.equals(2,1)\n",
    "print(Eq_M)"
   ]
  },
  {
   "cell_type": "code",
   "execution_count": null,
   "metadata": {},
   "outputs": [],
   "source": [
    "#  Problem 5 \n",
    "\n",
    "#  Did not attaempt"
   ]
  },
  {
   "cell_type": "code",
   "execution_count": null,
   "metadata": {},
   "outputs": [],
   "source": [
    "# Problem 6"
   ]
  },
  {
   "cell_type": "code",
   "execution_count": 9,
   "metadata": {},
   "outputs": [
    {
     "name": "stdout",
     "output_type": "stream",
     "text": [
      "1\n",
      "2\n",
      "3\n",
      "4\n",
      "1   2   \n",
      "3   4   \n",
      "2\n",
      "2\n",
      "2\n",
      "2\n",
      "2   2   \n",
      "2   2   \n",
      "[[6, 6], [14, 14]]\n"
     ]
    }
   ],
   "source": [
    "# AB not equal to BA\n",
    "# AB\n",
    "M = M_OP(2,2)\n",
    "MatMul_AB = M.mat_mult(2,2)\n"
   ]
  },
  {
   "cell_type": "code",
   "execution_count": 11,
   "metadata": {},
   "outputs": [
    {
     "name": "stdout",
     "output_type": "stream",
     "text": [
      "2\n",
      "2\n",
      "2\n",
      "2\n",
      "2   2   \n",
      "2   2   \n",
      "1\n",
      "2\n",
      "3\n",
      "4\n",
      "1   2   \n",
      "3   4   \n",
      "[[8, 12], [8, 12]]\n"
     ]
    }
   ],
   "source": [
    "#BA\n",
    "M = M_OP(2,2)\n",
    "MatMul_BA = M.mat_mult(2,2)"
   ]
  },
  {
   "cell_type": "code",
   "execution_count": 12,
   "metadata": {},
   "outputs": [
    {
     "name": "stdout",
     "output_type": "stream",
     "text": [
      "1\n",
      "2\n",
      "3\n",
      "4\n",
      "1   2   \n",
      "3   4   \n",
      "1\n",
      "0\n",
      "0\n",
      "1\n",
      "1   0   \n",
      "0   1   \n",
      "[[1, 2], [3, 4]]\n"
     ]
    }
   ],
   "source": [
    "# AI = A\n",
    "M =M_OP(2,2)\n",
    "MatMul_AI = M.mat_mult(2,2)"
   ]
  },
  {
   "cell_type": "code",
   "execution_count": null,
   "metadata": {},
   "outputs": [],
   "source": []
  }
 ],
 "metadata": {
  "kernelspec": {
   "display_name": "Python 3",
   "language": "python",
   "name": "python3"
  },
  "language_info": {
   "codemirror_mode": {
    "name": "ipython",
    "version": 3
   },
   "file_extension": ".py",
   "mimetype": "text/x-python",
   "name": "python",
   "nbconvert_exporter": "python",
   "pygments_lexer": "ipython3",
   "version": "3.7.3"
  }
 },
 "nbformat": 4,
 "nbformat_minor": 4
}
