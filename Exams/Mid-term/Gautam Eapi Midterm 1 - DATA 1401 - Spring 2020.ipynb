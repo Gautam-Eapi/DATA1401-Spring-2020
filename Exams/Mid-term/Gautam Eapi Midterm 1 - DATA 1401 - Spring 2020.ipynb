{
  "nbformat": 4,
  "nbformat_minor": 0,
  "metadata": {
    "kernelspec": {
      "display_name": "Python 3",
      "language": "python",
      "name": "python3"
    },
    "language_info": {
      "codemirror_mode": {
        "name": "ipython",
        "version": 3
      },
      "file_extension": ".py",
      "mimetype": "text/x-python",
      "name": "python",
      "nbconvert_exporter": "python",
      "pygments_lexer": "ipython3",
      "version": "3.8.1"
    },
    "colab": {
      "name": "Copy of Exam.ipynb",
      "provenance": [],
      "collapsed_sections": [],
      "toc_visible": true
    }
  },
  "cells": [
    {
      "cell_type": "markdown",
      "metadata": {
        "id": "O-Nvtn6gfg0x",
        "colab_type": "text"
      },
      "source": [
        "# Mid-term Exam\n",
        "\n",
        "[![Open In Colab](https://colab.research.google.com/assets/colab-badge.svg)](https://colab.research.google.com/github//afarbin/DATA1401-Spring-2020/blob/master/Exams/Mid-term/Exam.ipynb)\n",
        "\n",
        "Add cells to this notebook as you need for your solutions and your test of your solutions."
      ]
    },
    {
      "cell_type": "markdown",
      "metadata": {
        "id": "AjfmINOcfg0y",
        "colab_type": "text"
      },
      "source": [
        "1. Write a function `first_alphabetically(lst)` that takes a list `lst` of strings and returns the string that is alphabetically first. For example, calling your function with the list of states:"
      ]
    },
    {
      "cell_type": "code",
      "metadata": {
        "id": "QWGClgm_fg0z",
        "colab_type": "code",
        "colab": {}
      },
      "source": [
        "states=['Mississippi', 'Maryland', 'Delaware', 'Connecticut', 'Virginia', 'Utah', 'Kansas',\n",
        "        'Wyoming', 'Indiana', 'Louisiana', 'Missouri', 'Illinois', 'Minnesota', 'Vermont', \n",
        "        'New Mexico', 'North Dakota', 'Wisconsin', 'Tennessee', 'New York', 'Oklahoma', \n",
        "        'Colorado', 'Pennsylvania', 'West Virginia', 'Alabama', 'Montana', 'Texas', \n",
        "        'Washington', 'Michigan', 'New Hampshire', 'Arkansas', 'Hawaii', 'Iowa', \n",
        "        'Idaho', 'Kentucky', 'Ohio', 'Nebraska', 'Alaska', 'Oregon', 'South Dakota', \n",
        "        'New Jersey', 'Florida', 'Georgia', 'Rhode Island', 'Arizona', 'Maine', \n",
        "        'South Carolina', 'California', 'Nevada', 'Massachusetts', 'North Carolina']"
      ],
      "execution_count": 0,
      "outputs": []
    },
    {
      "cell_type": "code",
      "metadata": {
        "id": "PWkDeDD_five",
        "colab_type": "code",
        "colab": {}
      },
      "source": [
        "# defining the function\n",
        "def first_alplabetically(lst):\n",
        "  output = lst[0]\n",
        "  for element in lst:\n",
        "    if output > element:\n",
        "      output = element\n",
        "  return output"
      ],
      "execution_count": 0,
      "outputs": []
    },
    {
      "cell_type": "code",
      "metadata": {
        "id": "Qae4NUAygWtW",
        "colab_type": "code",
        "outputId": "99b1d19b-9e56-4b81-9784-509b4aff8a10",
        "colab": {
          "base_uri": "https://localhost:8080/",
          "height": 34
        }
      },
      "source": [
        "# function calling\n",
        "first_alplabetically(states)\n",
        "# print(states)"
      ],
      "execution_count": 44,
      "outputs": [
        {
          "output_type": "execute_result",
          "data": {
            "text/plain": [
              "'Alabama'"
            ]
          },
          "metadata": {
            "tags": []
          },
          "execution_count": 44
        }
      ]
    },
    {
      "cell_type": "markdown",
      "metadata": {
        "id": "NnXNzG8Nfg03",
        "colab_type": "text"
      },
      "source": [
        "should return the string `\"Alabama\"`. Note that you can compare strings:"
      ]
    },
    {
      "cell_type": "code",
      "metadata": {
        "id": "PJEV9EvWfg03",
        "colab_type": "code",
        "outputId": "f6152d2c-25db-4dda-b568-03b0127d9df8",
        "colab": {
          "base_uri": "https://localhost:8080/",
          "height": 85
        }
      },
      "source": [
        "print(\"A\">\"B\")\n",
        "print(\"B\">\"A\")\n",
        "print(\"A\">\"a\")\n",
        "print(\"bca\">\"bbc\")"
      ],
      "execution_count": 45,
      "outputs": [
        {
          "output_type": "stream",
          "text": [
            "False\n",
            "True\n",
            "False\n",
            "True\n"
          ],
          "name": "stdout"
        }
      ]
    },
    {
      "cell_type": "markdown",
      "metadata": {
        "id": "Ah5pYpTGfg06",
        "colab_type": "text"
      },
      "source": [
        "Make sure your implementation isn't case sensitive. Do not use python's built-in `min`, `max`, `sort` or any other sort function you find."
      ]
    },
    {
      "cell_type": "markdown",
      "metadata": {
        "id": "Nx_XleZDfg06",
        "colab_type": "text"
      },
      "source": [
        "2. Write a function `arg_first_alphabetically(lst)`, which does the same thing as in exercise 1 but returns the index of the first string alphabetically."
      ]
    },
    {
      "cell_type": "code",
      "metadata": {
        "id": "clZsEWRyg_5L",
        "colab_type": "code",
        "colab": {}
      },
      "source": [
        "def arg_first_alphabetically(lst):\n",
        "  index = 0\n",
        "  output = lst[index]\n",
        "  for i, element in enumerate(lst):\n",
        "      if output > element:\n",
        "        output =  element\n",
        "        index = i\n",
        "  # return output, index\n",
        "  return index"
      ],
      "execution_count": 0,
      "outputs": []
    },
    {
      "cell_type": "code",
      "metadata": {
        "id": "mtFQ-vPdkCh2",
        "colab_type": "code",
        "outputId": "0c33c7db-28dd-4df9-a8e0-ebbcfec4f306",
        "colab": {
          "base_uri": "https://localhost:8080/",
          "height": 34
        }
      },
      "source": [
        "# function calling \n",
        "arg_first_alphabetically(states)\n"
      ],
      "execution_count": 47,
      "outputs": [
        {
          "output_type": "execute_result",
          "data": {
            "text/plain": [
              "23"
            ]
          },
          "metadata": {
            "tags": []
          },
          "execution_count": 47
        }
      ]
    },
    {
      "cell_type": "markdown",
      "metadata": {
        "id": "3Gwl5ejyfg08",
        "colab_type": "text"
      },
      "source": [
        "3. Use your result in question 2 to implement a function `arg_sort_alphabetically(lst)` that returns a list that is alphabetically sorted. Sorting can be accomplished by successively applying the function in question 1 and removing the first element alphabetically. You can remove an element from a list using `pop()`. Make sure your implementation isn't case sensitive. Do not use python's built-in `min`, `max`, `sort` or any other sort function you find."
      ]
    },
    {
      "cell_type": "code",
      "metadata": {
        "id": "eDz3Ybs8lUkn",
        "colab_type": "code",
        "colab": {}
      },
      "source": [
        "# defining the function\n",
        "\n",
        "def arg_sort_alphabetically(lst):\n",
        "    sorted_states = []\n",
        "    new_lst = list(lst)\n",
        "    for element in new_lst:\n",
        "      lowalpha_element = first_alplabetically(lst)\n",
        "      lowalpha_index = arg_first_alphabetically(lst)\n",
        "      sorted_states.append(lowalpha_element)\n",
        "      #removed_element = lst.pop(lowalpha_index)\n",
        "      lst.pop(lowalpha_index)\n",
        "      new_lst = list(lst)\n",
        "    return sorted_states\n"
      ],
      "execution_count": 0,
      "outputs": []
    },
    {
      "cell_type": "code",
      "metadata": {
        "id": "4Ns8t8n_xkih",
        "colab_type": "code",
        "outputId": "f95bf368-50ff-49fe-c525-39db25d02fce",
        "colab": {
          "base_uri": "https://localhost:8080/",
          "height": 867
        }
      },
      "source": [
        " # function calling\n",
        " arg_sort_alphabetically(states)"
      ],
      "execution_count": 49,
      "outputs": [
        {
          "output_type": "execute_result",
          "data": {
            "text/plain": [
              "['Alabama',\n",
              " 'Alaska',\n",
              " 'Arizona',\n",
              " 'Arkansas',\n",
              " 'California',\n",
              " 'Colorado',\n",
              " 'Connecticut',\n",
              " 'Delaware',\n",
              " 'Florida',\n",
              " 'Georgia',\n",
              " 'Hawaii',\n",
              " 'Idaho',\n",
              " 'Illinois',\n",
              " 'Indiana',\n",
              " 'Iowa',\n",
              " 'Kansas',\n",
              " 'Kentucky',\n",
              " 'Louisiana',\n",
              " 'Maine',\n",
              " 'Maryland',\n",
              " 'Massachusetts',\n",
              " 'Michigan',\n",
              " 'Minnesota',\n",
              " 'Mississippi',\n",
              " 'Missouri',\n",
              " 'Montana',\n",
              " 'Nebraska',\n",
              " 'Nevada',\n",
              " 'New Hampshire',\n",
              " 'New Jersey',\n",
              " 'New Mexico',\n",
              " 'New York',\n",
              " 'North Carolina',\n",
              " 'North Dakota',\n",
              " 'Ohio',\n",
              " 'Oklahoma',\n",
              " 'Oregon',\n",
              " 'Pennsylvania',\n",
              " 'Rhode Island',\n",
              " 'South Carolina',\n",
              " 'South Dakota',\n",
              " 'Tennessee',\n",
              " 'Texas',\n",
              " 'Utah',\n",
              " 'Vermont',\n",
              " 'Virginia',\n",
              " 'Washington',\n",
              " 'West Virginia',\n",
              " 'Wisconsin',\n",
              " 'Wyoming']"
            ]
          },
          "metadata": {
            "tags": []
          },
          "execution_count": 49
        }
      ]
    },
    {
      "cell_type": "markdown",
      "metadata": {
        "id": "dn-MjwQufg08",
        "colab_type": "text"
      },
      "source": [
        "4. Implement a function `outer_product` that takes two one-dimensional lists of numbers and returns the two-dimensional outer product matrix defined as:\n",
        "\n",
        "\\begin{equation*}\n",
        "\\begin{pmatrix} x_1\\\\x_2\\\\ \\vdots \\\\x_m \\end{pmatrix} \\begin{pmatrix} y_1&y_2& \\dots &y_n\\end{pmatrix} =\n",
        "\\begin{pmatrix}\n",
        "x_1y_1 & x_1y_2 & \\dots & x_1y_n\\\\\n",
        "x_2y_1 & x_2y_2 & \\dots & x_2y_n\\\\\n",
        "\\vdots & \\vdots & \\ddots & \\vdots \\\\\n",
        "x_my_1 & x_my_2 & \\dots & x_my_n\n",
        "\\end{pmatrix}\n",
        "\\end{equation*}\n",
        "\n",
        "In other words the elements of matrix C which is the outer product of A and B are $c_{ij} = a_i b_j$."
      ]
    },
    {
      "cell_type": "code",
      "metadata": {
        "id": "L3Fz52IWJZ6R",
        "colab_type": "code",
        "colab": {}
      },
      "source": [
        "def zero_matrix(m,n):\n",
        "    out=list()\n",
        "    for i in range(m):\n",
        "        row=list()\n",
        "        for j in range(n):\n",
        "            row.append(0.)\n",
        "        out.append(row)\n",
        "    return out"
      ],
      "execution_count": 0,
      "outputs": []
    },
    {
      "cell_type": "code",
      "metadata": {
        "id": "EksH1q3AJeOg",
        "colab_type": "code",
        "colab": {}
      },
      "source": [
        "def is_matrix(M):\n",
        "    if isinstance(M,list):\n",
        "        row_length=len(M[0])\n",
        "        for row in M:\n",
        "            if not row_length==len(row):\n",
        "                return False\n",
        "    else:\n",
        "        False\n",
        "    return True"
      ],
      "execution_count": 0,
      "outputs": []
    },
    {
      "cell_type": "code",
      "metadata": {
        "id": "DJ0vngI4Jfaw",
        "colab_type": "code",
        "colab": {}
      },
      "source": [
        "def matrix_shape(M):\n",
        "    if is_matrix(M):\n",
        "        m=len(M)\n",
        "        n=len(M[0])\n",
        "        return m,n\n",
        "    else:\n",
        "        0,0"
      ],
      "execution_count": 0,
      "outputs": []
    },
    {
      "cell_type": "code",
      "metadata": {
        "id": "mLVPs2kUJfna",
        "colab_type": "code",
        "colab": {}
      },
      "source": [
        "#         OUTER PRODUCT                  #\n",
        "\n",
        "def outer_product(A,B):\n",
        "    m_a,n_a = matrix_shape(A)\n",
        "    m_b,n_b = matrix_shape(B)\n",
        "    if n_a==1 and m_b ==1:\n",
        "        C=zero_matrix(m_a,n_b)\n",
        "        for i in range(m_a):\n",
        "            for j in range(n_b):\n",
        "                C[i][j]=A[i][0]*B[0][j] \n",
        "        return C\n",
        "    return False"
      ],
      "execution_count": 0,
      "outputs": []
    },
    {
      "cell_type": "code",
      "metadata": {
        "id": "nCEj-7ocJ547",
        "colab_type": "code",
        "outputId": "618b326e-1a18-473b-b721-3864274a51c7",
        "colab": {
          "base_uri": "https://localhost:8080/",
          "height": 34
        }
      },
      "source": [
        "A = [[1],[3],[4]]\n",
        "B = [[7,9]]\n",
        "outer_product(A,B)"
      ],
      "execution_count": 54,
      "outputs": [
        {
          "output_type": "execute_result",
          "data": {
            "text/plain": [
              "[[7, 9], [21, 27], [28, 36]]"
            ]
          },
          "metadata": {
            "tags": []
          },
          "execution_count": 54
        }
      ]
    },
    {
      "cell_type": "code",
      "metadata": {
        "id": "aO0njQ5BJ99Z",
        "colab_type": "code",
        "outputId": "faff8062-aa20-4c0e-ed06-61043ccc9405",
        "colab": {
          "base_uri": "https://localhost:8080/",
          "height": 34
        }
      },
      "source": [
        "P = [[2],[4]]\n",
        "Q = [[1,2,3,4]]\n",
        "outer_product(P,Q)"
      ],
      "execution_count": 55,
      "outputs": [
        {
          "output_type": "execute_result",
          "data": {
            "text/plain": [
              "[[2, 4, 6, 8], [4, 8, 12, 16]]"
            ]
          },
          "metadata": {
            "tags": []
          },
          "execution_count": 55
        }
      ]
    },
    {
      "cell_type": "markdown",
      "metadata": {
        "id": "G8nT5GWUfg09",
        "colab_type": "text"
      },
      "source": [
        "5. Implement a function `cumulative_sum(lst)` that takes a list of numbers and returns a list of same size where the element `i` is the sum of the elements `0` to `i` of the input list. For example given `[1,2,3]`, you should return [1,3,6]."
      ]
    },
    {
      "cell_type": "code",
      "metadata": {
        "id": "8RaJY_TKEjj_",
        "colab_type": "code",
        "colab": {}
      },
      "source": [
        "def cumulative_sum(lst):\n",
        "  cum_lst = list()\n",
        "  cum_num = 0\n",
        "  for element in lst:\n",
        "      cum_num = cum_num + element\n",
        "      #print(cum_num)\n",
        "      cum_lst.append(cum_num)\n",
        "      #print(cum_lst)\n",
        "  return cum_lst"
      ],
      "execution_count": 0,
      "outputs": []
    },
    {
      "cell_type": "code",
      "metadata": {
        "id": "-YaPm6DqHfVo",
        "colab_type": "code",
        "outputId": "1f687809-bb1a-4871-b6e8-f90306ee8ce0",
        "colab": {
          "base_uri": "https://localhost:8080/",
          "height": 34
        }
      },
      "source": [
        "cumulative_sum([1,2,3,4,5])"
      ],
      "execution_count": 57,
      "outputs": [
        {
          "output_type": "execute_result",
          "data": {
            "text/plain": [
              "[1, 3, 6, 10, 15]"
            ]
          },
          "metadata": {
            "tags": []
          },
          "execution_count": 57
        }
      ]
    },
    {
      "cell_type": "code",
      "metadata": {
        "id": "UjOulus4NQEO",
        "colab_type": "code",
        "outputId": "601a69b4-7ba9-41f1-a094-9eb7c880d8ff",
        "colab": {
          "base_uri": "https://localhost:8080/",
          "height": 34
        }
      },
      "source": [
        "cumulative_sum([3,1,13,14,23])"
      ],
      "execution_count": 58,
      "outputs": [
        {
          "output_type": "execute_result",
          "data": {
            "text/plain": [
              "[3, 4, 17, 31, 54]"
            ]
          },
          "metadata": {
            "tags": []
          },
          "execution_count": 58
        }
      ]
    },
    {
      "cell_type": "markdown",
      "metadata": {
        "id": "za5j04zsfg09",
        "colab_type": "text"
      },
      "source": [
        "6. Imagine you have a normal distributed random variable `x`. For example `x` can be grades on this exam. Using the normal distribution generator and histogram functions from lecture (provided below) and `cumulative_sum` from previous question to compute what is the value of $x_{90}$ in $\\sigma$ such that 90% of the values $x$ are below $x_{90}$. In other words:"
      ]
    },
    {
      "cell_type": "markdown",
      "metadata": {
        "id": "QkvFEuhCfg09",
        "colab_type": "text"
      },
      "source": [
        "$$\n",
        "\\int_{-\\infty}^{x_{90}} N(x;\\mu=0,\\sigma=1) dx = 0.9\n",
        "$$"
      ]
    },
    {
      "cell_type": "code",
      "metadata": {
        "id": "e-Ee99hYfg0-",
        "colab_type": "code",
        "colab": {}
      },
      "source": [
        "import math,random\n",
        "\n",
        "def arange(x_min,x_max,steps=10):\n",
        "    step_size=(x_max-x_min)/steps\n",
        "    x=x_min\n",
        "    out = list()\n",
        "    for i in range(steps):\n",
        "        out.append(x)\n",
        "        x+=step_size\n",
        "    return out\n",
        "\n",
        "def generate_normal(N,m=0,s=1):\n",
        "    out = list() \n",
        "    \n",
        "    while len(out)<N:\n",
        "#    for _ in range(int(float(N)/2)+1):\n",
        "        U1=random.random()\n",
        "        U2=random.random()\n",
        "    \n",
        "        out.append(s*math.sqrt(-2*math.log(U1))*math.cos(2*math.pi*U2)+m)\n",
        "        out.append(s*math.sqrt(-2*math.log(U1))*math.sin(2*math.pi*U2)+m)\n",
        "\n",
        "    return out[:N]\n",
        "\n",
        "def histogram(data, n_bins=10,x_min=None, x_max=None):\n",
        "    if x_min==None:\n",
        "        x_min=min(data)\n",
        "    if x_max==None:\n",
        "        x_max=max(data)\n",
        "        \n",
        "    bin_edges = arange(x_min,x_max,n_bins)\n",
        "    bin_edges.append(x_max)\n",
        "\n",
        "    hist=[0]*n_bins\n",
        "    \n",
        "    for d in data:\n",
        "        for i in range(n_bins):\n",
        "            if d>=bin_edges[i] and d<bin_edges[i+1]:\n",
        "                hist[i]+=1\n",
        "                break\n",
        "                \n",
        "    return hist,bin_edges\n",
        "\n"
      ],
      "execution_count": 0,
      "outputs": []
    },
    {
      "cell_type": "code",
      "metadata": {
        "id": "Zxhw9z4Wfg1A",
        "colab_type": "code",
        "colab": {
          "base_uri": "https://localhost:8080/",
          "height": 404
        },
        "outputId": "7bf0a619-2bd5-45f3-9c77-b18720a84b6e"
      },
      "source": [
        "%matplotlib inline\n",
        "import matplotlib.pyplot as plt\n",
        "\n",
        "x_data = generate_normal(100)\n",
        "plt.hist(generate_normal(100,0,1))\n",
        "num,binedge = histogram(x_data)\n",
        "print(\"The x data:\")\n",
        "print(num)\n",
        "print(\"printing bin edge:\")\n",
        "print(binedge)\n",
        "print(\"percentile score or cumulative sum is:\")\n",
        "out = cumulative_sum(num)\n",
        "print(out)\n",
        "print(\"-----\")"
      ],
      "execution_count": 60,
      "outputs": [
        {
          "output_type": "stream",
          "text": [
            "The x data:\n",
            "[1, 1, 7, 11, 18, 30, 16, 8, 3, 4]\n",
            "printing bin edge:\n",
            "[-2.7514413112529974, -2.241640391533838, -1.7318394718146788, -1.2220385520955195, -0.7122376323763603, -0.2024367126572011, 0.3073642070619581, 0.8171651267811173, 1.3269660465002766, 1.836766966219436, 2.346567885938595]\n",
            "percentile score or cumulative sum is:\n",
            "[1, 2, 9, 20, 38, 68, 84, 92, 95, 99]\n",
            "-----\n"
          ],
          "name": "stdout"
        },
        {
          "output_type": "display_data",
          "data": {
            "image/png": "[encoded data removed]",
            "text/plain": [
              "<Figure size 432x288 with 1 Axes>"
            ]
          },
          "metadata": {
            "tags": []
          }
        }
      ]
    }
  ]
}